{
  "nbformat": 4,
  "nbformat_minor": 0,
  "metadata": {
    "colab": {
      "provenance": [],
      "authorship_tag": "ABX9TyNEvo3gw1Ddn67Ee0cr3anL",
      "include_colab_link": true
    },
    "kernelspec": {
      "name": "python3",
      "display_name": "Python 3"
    },
    "language_info": {
      "name": "python"
    }
  },
  "cells": [
    {
      "cell_type": "markdown",
      "metadata": {
        "id": "view-in-github",
        "colab_type": "text"
      },
      "source": [
        "<a href=\"https://colab.research.google.com/github/ampig2020/Data-Science-Hands-on-Practice/blob/main/Finding_optimal_locations_of_new_stores_using_Decision_Optimization_Project.ipynb\" target=\"_parent\"><img src=\"https://colab.research.google.com/assets/colab-badge.svg\" alt=\"Open In Colab\"/></a>"
      ]
    },
    {
      "cell_type": "markdown",
      "source": [
        "This notebook shows you how Decision Optimization can help to prescribe decisions for a complex constrained problem using CPLEX Modeling for Python to help determine the optimal location for a new store. This notebook requires the Commercial Edition of CPLEX engines, which is included in the latest Python XS + DO environment in Watson Studio."
      ],
      "metadata": {
        "id": "5MpREQrRpIPw"
      }
    },
    {
      "cell_type": "markdown",
      "source": [
        "**Finding Optimal Locations for New Stores**\n",
        "\n",
        "This notebook is an example of how Decision Optimization can help to prescribe decisions for a complex constrained problem.\n",
        "\n",
        "When you finish this notebook, you'll have a foundational knowledge of Prescriptive Analytics.\n",
        "\n",
        "This notebook requires the Commercial Edition of CPLEX engines, which is included in the Default Python 3.7 XS + DO in Watson Studio.\n",
        "\n",
        "Table of contents:\n",
        "\n",
        "Describe the business problem\n",
        "\n",
        "\n",
        "How decision optimization (prescriptive analytics) can help\n",
        "\n",
        "Use decision optimization\n",
        "\n",
        "Step 1: Import the docplex package\n",
        "\n",
        "Step 2: Model the data\n",
        "\n",
        "Step 3: Prepare the data\n",
        "\n",
        "Step 4: Set up the prescriptive model\n",
        "\n",
        "Define the decision variables\n",
        "\n",
        "Express the business constraints\n",
        "\n",
        "Express the objective\n",
        "\n",
        "Solve with the Decision Optimization solve service\n",
        "\n",
        "Step 5: Investigate the solution and run an example analysis\n",
        "\n",
        "Summary\n",
        "\n",
        "---\n",
        "\n",
        "\n",
        "\n",
        "**Describe the business problem**\n",
        "\n",
        "A fictional Coffee Company plans to open N shops in the near future and needs to determine where they should be located knowing the following:\n",
        "\n",
        "Most of the customers of this coffee brewer enjoy reading and borrowing books, so the goal is to locate those shops in such a way that all the city public libraries are within minimal walking distance.\n",
        "\n",
        "We use Chicago open data for this example.\n",
        "\n",
        "We implement a K-Median model to get the optimal location of our future shops.\n",
        "\n",
        "**How decision optimization can help**\n",
        "\n",
        "Prescriptive analytics (decision optimization) technology recommends actions that are based on desired outcomes. It takes into account specific scenarios, resources, and knowledge of past and current events. With this insight, your organization can make better decisions and have greater control of business outcomes.\n",
        "\n",
        "Prescriptive analytics is the next step on the path to insight-based actions. It creates value through synergy with predictive analytics, which analyzes data to predict future outcomes.\n",
        "\n",
        "Prescriptive analytics takes that insight to the next level by suggesting the optimal way to handle that future situation. Organizations that can act fast in dynamic conditions and make superior decisions in uncertain environments gain a strong competitive advantage.\n",
        "\n",
        "\n",
        "With prescriptive analytics, you can:\n",
        "\n",
        "Automate the complex decisions and trade-offs to better manage your limited resources.\n",
        "Take advantage of a future opportunity or mitigate a future risk.\n",
        "Proactively update recommendations based on changing events.\n",
        "Meet operational goals, increase customer loyalty, prevent threats and fraud, and optimize business processes."
      ],
      "metadata": {
        "id": "-V9gZDL3pKv3"
      }
    },
    {
      "cell_type": "markdown",
      "source": [
        "***Use decision optimization***"
      ],
      "metadata": {
        "id": "KZKxC4t5q3Xj"
      }
    },
    {
      "cell_type": "markdown",
      "source": [
        "Step 1: Import the docplex package\n"
      ],
      "metadata": {
        "id": "9Yg2P7IqrBsy"
      }
    },
    {
      "cell_type": "markdown",
      "source": [
        "This package is presintalled on Watson Studio."
      ],
      "metadata": {
        "id": "0XUcWo1jrGMi"
      }
    },
    {
      "cell_type": "code",
      "source": [
        "pip install docplex==2.15.194"
      ],
      "metadata": {
        "colab": {
          "base_uri": "https://localhost:8080/"
        },
        "id": "LJ3bjsROzDw7",
        "outputId": "e918a652-3c98-405a-c016-aff634c85348"
      },
      "execution_count": 2,
      "outputs": [
        {
          "output_type": "stream",
          "name": "stdout",
          "text": [
            "Looking in indexes: https://pypi.org/simple, https://us-python.pkg.dev/colab-wheels/public/simple/\n",
            "Collecting docplex==2.15.194\n",
            "  Downloading docplex-2.15.194.tar.gz (582 kB)\n",
            "\u001b[K     |████████████████████████████████| 582 kB 5.2 MB/s \n",
            "\u001b[?25hRequirement already satisfied: requests in /usr/local/lib/python3.8/dist-packages (from docplex==2.15.194) (2.23.0)\n",
            "Requirement already satisfied: six in /usr/local/lib/python3.8/dist-packages (from docplex==2.15.194) (1.15.0)\n",
            "Requirement already satisfied: chardet<4,>=3.0.2 in /usr/local/lib/python3.8/dist-packages (from requests->docplex==2.15.194) (3.0.4)\n",
            "Requirement already satisfied: urllib3!=1.25.0,!=1.25.1,<1.26,>=1.21.1 in /usr/local/lib/python3.8/dist-packages (from requests->docplex==2.15.194) (1.24.3)\n",
            "Requirement already satisfied: idna<3,>=2.5 in /usr/local/lib/python3.8/dist-packages (from requests->docplex==2.15.194) (2.10)\n",
            "Requirement already satisfied: certifi>=2017.4.17 in /usr/local/lib/python3.8/dist-packages (from requests->docplex==2.15.194) (2022.12.7)\n",
            "Building wheels for collected packages: docplex\n",
            "  Building wheel for docplex (setup.py) ... \u001b[?25l\u001b[?25hdone\n",
            "  Created wheel for docplex: filename=docplex-2.15.194-py3-none-any.whl size=645143 sha256=df01a07e54507ed35b59f3174cee0f3dd196135332953ce7136e30996b32362b\n",
            "  Stored in directory: /root/.cache/pip/wheels/9f/72/37/682278ae313764c583d8c10027b83b9a12da7bb148c0ea070b\n",
            "Successfully built docplex\n",
            "Installing collected packages: docplex\n",
            "Successfully installed docplex-2.15.194\n"
          ]
        }
      ]
    },
    {
      "cell_type": "code",
      "source": [
        "import sys\n",
        "import docplex.mp"
      ],
      "metadata": {
        "id": "Alijd3pirYSa"
      },
      "execution_count": 3,
      "outputs": []
    },
    {
      "cell_type": "markdown",
      "source": [
        "*Note that the more global package docplex contains another subpackage docplex.cp that is dedicated to Constraint Programming, another branch of optimization.*"
      ],
      "metadata": {
        "id": "vXPgsBqNuPJS"
      }
    },
    {
      "cell_type": "markdown",
      "source": [
        "**Step 2: Model the data**"
      ],
      "metadata": {
        "id": "zKKKwumpuT5R"
      }
    },
    {
      "cell_type": "markdown",
      "source": [
        "The data for this problem is quite simple: it is composed of the list of public libraries and their geographical locations.\n",
        "\n",
        "The data is acquired from Chicago open data as a JSON file, which is in the following format: \n",
        "data\" : [ [ 1, \"13BFA4C7-78CE-4D83-B53D-B57C60B701CF\", 1, 1441918880, \"885709\", 1441918880, \"885709\", null, \"Albany Park\", \"M, W: 10AM-6PM;  TU, TH: 12PM-8PM; F, SA: 9AM-5PM; SU: Closed\", \"Yes\", \"Yes \", \"3401 W. Foster Avenue\", \"CHICAGO\", \"IL\", \"60625\", \"(773) 539-5450\", [ \"http://www.chipublib.org/locations/1/\", null ], [ null, \"41.975456\", \"-87.71409\", null, false ] ]\n",
        "\n",
        "This code snippet represents library \"3401 W. Foster Avenue\" located at 41.975456, -87.71409"
      ],
      "metadata": {
        "id": "HR4wyZjGuW6C"
      }
    },
    {
      "cell_type": "markdown",
      "source": [
        "**Step 3: Prepare the data**"
      ],
      "metadata": {
        "id": "2AnNbbdTuxWv"
      }
    },
    {
      "cell_type": "markdown",
      "source": [
        "We need to collect the list of public libraries locations and keep their names, latitudes, and longitudes."
      ],
      "metadata": {
        "id": "yb3PySsiu1oH"
      }
    },
    {
      "cell_type": "code",
      "source": [
        "# Store longitude, latitude and street crossing name of each public library location.\n",
        "class XPoint(object):\n",
        "    def __init__(self, x, y):\n",
        "        self.x = x\n",
        "        self.y = y\n",
        "    def __str__(self):\n",
        "        return \"P(%g_%g)\" % (self.x, self.y)\n",
        "\n",
        "class NamedPoint(XPoint):\n",
        "    def __init__(self, name, x, y):\n",
        "        XPoint.__init__(self, x, y)\n",
        "        self.name = name\n",
        "    def __str__(self):\n",
        "        return self.name"
      ],
      "metadata": {
        "id": "a5HdvHnyvGx3"
      },
      "execution_count": 4,
      "outputs": []
    },
    {
      "cell_type": "markdown",
      "source": [
        "Define how to compute the earth distance between 2 points:\n",
        "\n",
        "To easily compute distance between 2 points, we use the Python package geopy"
      ],
      "metadata": {
        "id": "RzinWFEOvJnP"
      }
    },
    {
      "cell_type": "code",
      "source": [
        "try:\n",
        "    import geopy.distance\n",
        "except:\n",
        "    if hasattr(sys, 'real_prefix'):\n",
        "        #we are in a virtual env.\n",
        "        !pip install geopy \n",
        "    else:\n",
        "        !pip install --user geopy"
      ],
      "metadata": {
        "id": "RnGCzE0OvRR-"
      },
      "execution_count": 5,
      "outputs": []
    },
    {
      "cell_type": "code",
      "source": [
        "# Simple distance computation between 2 locations.\n",
        "from geopy.distance import great_circle\n",
        " \n",
        "def get_distance(p1, p2):\n",
        "    return great_circle((p1.y, p1.x), (p2.y, p2.x)).miles"
      ],
      "metadata": {
        "id": "8pPZM5zRvS4O"
      },
      "execution_count": 6,
      "outputs": []
    },
    {
      "cell_type": "markdown",
      "source": [
        "Declare the list of libraries\n",
        "\n",
        "Parse the JSON file to get the list of libraries and store them as Python elements."
      ],
      "metadata": {
        "id": "emn2hBPUvUbG"
      }
    },
    {
      "cell_type": "code",
      "source": [
        "def build_libraries_from_url(url, name_pos, lat_long_pos):\n",
        "    import requests\n",
        "    import json\n",
        "\n",
        "    r = requests.get(url)\n",
        "    myjson = json.loads(r.text, parse_constant='utf-8')\n",
        "    myjson = myjson['data']\n",
        "\n",
        "    libraries = []\n",
        "    k = 1\n",
        "    for location in myjson:\n",
        "        uname = location[name_pos]\n",
        "        try:\n",
        "            latitude = float(location[lat_long_pos][1])\n",
        "            longitude = float(location[lat_long_pos][2])\n",
        "        except TypeError:\n",
        "            latitude = longitude = None\n",
        "        try:\n",
        "            name = str(uname)\n",
        "        except:\n",
        "            name = \"???\"\n",
        "        name = \"P_%s_%d\" % (name, k)\n",
        "        if latitude and longitude:\n",
        "            cp = NamedPoint(name, longitude, latitude)\n",
        "            libraries.append(cp)\n",
        "            k += 1\n",
        "    return libraries"
      ],
      "metadata": {
        "id": "f30ZPBxQvWS2"
      },
      "execution_count": 7,
      "outputs": []
    },
    {
      "cell_type": "code",
      "source": [
        "libraries = build_libraries_from_url('https://data.cityofchicago.org/api/views/x8fc-8rcq/rows.json?accessType=DOWNLOAD',\n",
        "                                   name_pos=10,\n",
        "                                   lat_long_pos=16)"
      ],
      "metadata": {
        "id": "egCVMr4ivZlu"
      },
      "execution_count": 8,
      "outputs": []
    },
    {
      "cell_type": "code",
      "source": [
        "print(\"There are %d public libraries in Chicago\" % (len(libraries)))"
      ],
      "metadata": {
        "colab": {
          "base_uri": "https://localhost:8080/"
        },
        "id": "sSIBtc5Mva3m",
        "outputId": "20b08227-fce3-4ee3-bc02-c6dda17f9d38"
      },
      "execution_count": 9,
      "outputs": [
        {
          "output_type": "stream",
          "name": "stdout",
          "text": [
            "There are 81 public libraries in Chicago\n"
          ]
        }
      ]
    },
    {
      "cell_type": "markdown",
      "source": [
        "There are 81 public libraries in Chicago"
      ],
      "metadata": {
        "id": "KrJiL02LvcM2"
      }
    },
    {
      "cell_type": "markdown",
      "source": [
        "Define number of shops to open\n",
        "\n",
        "Create a constant that indicates how many coffee shops we would like to open."
      ],
      "metadata": {
        "id": "sOyOHC82vfA8"
      }
    },
    {
      "cell_type": "code",
      "source": [
        "nb_shops = 5\n",
        "print(\"We would like to open %d coffee shops\" % nb_shops)"
      ],
      "metadata": {
        "colab": {
          "base_uri": "https://localhost:8080/"
        },
        "id": "pq7tb5EcvkG0",
        "outputId": "cda954b9-83cd-4054-c208-30973e915d80"
      },
      "execution_count": 10,
      "outputs": [
        {
          "output_type": "stream",
          "name": "stdout",
          "text": [
            "We would like to open 5 coffee shops\n"
          ]
        }
      ]
    },
    {
      "cell_type": "markdown",
      "source": [
        "We would like to open 5 coffee shops\n"
      ],
      "metadata": {
        "id": "dudrbvXqvpgc"
      }
    },
    {
      "cell_type": "markdown",
      "source": [
        "Validate the data by displaying them\n",
        "\n",
        "We will use the folium library to display a map with markers."
      ],
      "metadata": {
        "id": "AwF4C-5gvqz0"
      }
    },
    {
      "cell_type": "code",
      "source": [
        "try:\n",
        "    import folium\n",
        "except:\n",
        "    if hasattr(sys, 'real_prefix'):\n",
        "        #we are in a virtual env.\n",
        "        !pip install folium \n",
        "    else:\n",
        "        !pip install folium"
      ],
      "metadata": {
        "id": "w_a34wzivu_E"
      },
      "execution_count": 11,
      "outputs": []
    },
    {
      "cell_type": "code",
      "source": [
        "import folium\n",
        "map_osm = folium.Map(location=[41.878, -87.629], zoom_start=11)\n",
        "for library in libraries:\n",
        "    lt = library.y\n",
        "    lg = library.x\n",
        "    folium.Marker([lt, lg]).add_to(map_osm)\n",
        "map_osm"
      ],
      "metadata": {
        "colab": {
          "base_uri": "https://localhost:8080/",
          "height": 855
        },
        "id": "0kMpTKsNvyIT",
        "outputId": "99e16652-f5d5-46ef-eb78-7e7251842734"
      },
      "execution_count": 12,
      "outputs": [
        {
          "output_type": "execute_result",
          "data": {
            "text/plain": [
              "<folium.folium.Map at 0x7f8ae4d0dcd0>"
            ],
            "text/html": [
              "<div style=\"width:100%;\"><div style=\"position:relative;width:100%;height:0;padding-bottom:60%;\"><span style=\"color:#565656\">Make this Notebook Trusted to load map: File -> Trust Notebook</span><iframe srcdoc=\"&lt;!DOCTYPE html&gt;\n",
              "&lt;html&gt;\n",
              "&lt;head&gt;\n",
              "    \n",
              "    &lt;meta http-equiv=&quot;content-type&quot; content=&quot;text/html; charset=UTF-8&quot; /&gt;\n",
              "    \n",
              "        &lt;script&gt;\n",
              "            L_NO_TOUCH = false;\n",
              "            L_DISABLE_3D = false;\n",
              "        &lt;/script&gt;\n",
              "    \n",
              "    &lt;style&gt;html, body {width: 100%;height: 100%;margin: 0;padding: 0;}&lt;/style&gt;\n",
              "    &lt;style&gt;#map {position:absolute;top:0;bottom:0;right:0;left:0;}&lt;/style&gt;\n",
              "    &lt;script src=&quot;https://cdn.jsdelivr.net/npm/leaflet@1.6.0/dist/leaflet.js&quot;&gt;&lt;/script&gt;\n",
              "    &lt;script src=&quot;https://code.jquery.com/jquery-1.12.4.min.js&quot;&gt;&lt;/script&gt;\n",
              "    &lt;script src=&quot;https://maxcdn.bootstrapcdn.com/bootstrap/3.2.0/js/bootstrap.min.js&quot;&gt;&lt;/script&gt;\n",
              "    &lt;script src=&quot;https://cdnjs.cloudflare.com/ajax/libs/Leaflet.awesome-markers/2.0.2/leaflet.awesome-markers.js&quot;&gt;&lt;/script&gt;\n",
              "    &lt;link rel=&quot;stylesheet&quot; href=&quot;https://cdn.jsdelivr.net/npm/leaflet@1.6.0/dist/leaflet.css&quot;/&gt;\n",
              "    &lt;link rel=&quot;stylesheet&quot; href=&quot;https://maxcdn.bootstrapcdn.com/bootstrap/3.2.0/css/bootstrap.min.css&quot;/&gt;\n",
              "    &lt;link rel=&quot;stylesheet&quot; href=&quot;https://maxcdn.bootstrapcdn.com/bootstrap/3.2.0/css/bootstrap-theme.min.css&quot;/&gt;\n",
              "    &lt;link rel=&quot;stylesheet&quot; href=&quot;https://maxcdn.bootstrapcdn.com/font-awesome/4.6.3/css/font-awesome.min.css&quot;/&gt;\n",
              "    &lt;link rel=&quot;stylesheet&quot; href=&quot;https://cdnjs.cloudflare.com/ajax/libs/Leaflet.awesome-markers/2.0.2/leaflet.awesome-markers.css&quot;/&gt;\n",
              "    &lt;link rel=&quot;stylesheet&quot; href=&quot;https://cdn.jsdelivr.net/gh/python-visualization/folium/folium/templates/leaflet.awesome.rotate.min.css&quot;/&gt;\n",
              "    \n",
              "            &lt;meta name=&quot;viewport&quot; content=&quot;width=device-width,\n",
              "                initial-scale=1.0, maximum-scale=1.0, user-scalable=no&quot; /&gt;\n",
              "            &lt;style&gt;\n",
              "                #map_4e7e900a682c49cfa796ca177f7459e1 {\n",
              "                    position: relative;\n",
              "                    width: 100.0%;\n",
              "                    height: 100.0%;\n",
              "                    left: 0.0%;\n",
              "                    top: 0.0%;\n",
              "                }\n",
              "            &lt;/style&gt;\n",
              "        \n",
              "&lt;/head&gt;\n",
              "&lt;body&gt;\n",
              "    \n",
              "    \n",
              "            &lt;div class=&quot;folium-map&quot; id=&quot;map_4e7e900a682c49cfa796ca177f7459e1&quot; &gt;&lt;/div&gt;\n",
              "        \n",
              "&lt;/body&gt;\n",
              "&lt;script&gt;\n",
              "    \n",
              "    \n",
              "            var map_4e7e900a682c49cfa796ca177f7459e1 = L.map(\n",
              "                &quot;map_4e7e900a682c49cfa796ca177f7459e1&quot;,\n",
              "                {\n",
              "                    center: [41.878, -87.629],\n",
              "                    crs: L.CRS.EPSG3857,\n",
              "                    zoom: 11,\n",
              "                    zoomControl: true,\n",
              "                    preferCanvas: false,\n",
              "                }\n",
              "            );\n",
              "\n",
              "            \n",
              "\n",
              "        \n",
              "    \n",
              "            var tile_layer_cffdb257694bf16bc17c9a818c3882b8 = L.tileLayer(\n",
              "                &quot;https://{s}.tile.openstreetmap.org/{z}/{x}/{y}.png&quot;,\n",
              "                {&quot;attribution&quot;: &quot;Data by \\u0026copy; \\u003ca href=\\&quot;http://openstreetmap.org\\&quot;\\u003eOpenStreetMap\\u003c/a\\u003e, under \\u003ca href=\\&quot;http://www.openstreetmap.org/copyright\\&quot;\\u003eODbL\\u003c/a\\u003e.&quot;, &quot;detectRetina&quot;: false, &quot;maxNativeZoom&quot;: 18, &quot;maxZoom&quot;: 18, &quot;minZoom&quot;: 0, &quot;noWrap&quot;: false, &quot;opacity&quot;: 1, &quot;subdomains&quot;: &quot;abc&quot;, &quot;tms&quot;: false}\n",
              "            ).addTo(map_4e7e900a682c49cfa796ca177f7459e1);\n",
              "        \n",
              "    \n",
              "            var marker_95f7a3023aeb413bc191995e0640fa0a = L.marker(\n",
              "                [41.69198346617567, -87.6739093032301],\n",
              "                {}\n",
              "            ).addTo(map_4e7e900a682c49cfa796ca177f7459e1);\n",
              "        \n",
              "    \n",
              "            var marker_ac20ef39e7a5076956679404d6a420e3 = L.marker(\n",
              "                [41.7510184591363, -87.61495065361933],\n",
              "                {}\n",
              "            ).addTo(map_4e7e900a682c49cfa796ca177f7459e1);\n",
              "        \n",
              "    \n",
              "            var marker_f62a0c840557bd5b1b87afff5978da59 = L.marker(\n",
              "                [41.74928543110801, -87.72440869132882],\n",
              "                {}\n",
              "            ).addTo(map_4e7e900a682c49cfa796ca177f7459e1);\n",
              "        \n",
              "    \n",
              "            var marker_67840f330e84ad06b7ee604a66198361 = L.marker(\n",
              "                [41.77875389246921, -87.72374295317714],\n",
              "                {}\n",
              "            ).addTo(map_4e7e900a682c49cfa796ca177f7459e1);\n",
              "        \n",
              "    \n",
              "            var marker_c2c0c9e84522e2f453a241001bc27597 = L.marker(\n",
              "                [42.00682227244734, -87.67330813329413],\n",
              "                {}\n",
              "            ).addTo(map_4e7e900a682c49cfa796ca177f7459e1);\n",
              "        \n",
              "    \n",
              "            var marker_c6c73654b7f3df6b4288835e50e9a1d1 = L.marker(\n",
              "                [41.897484072390675, -87.62337776811282],\n",
              "                {}\n",
              "            ).addTo(map_4e7e900a682c49cfa796ca177f7459e1);\n",
              "        \n",
              "    \n",
              "            var marker_27cc718a0d51a90ac23a60b11c77aaed = L.marker(\n",
              "                [41.97557881655979, -87.71361314512697],\n",
              "                {}\n",
              "            ).addTo(map_4e7e900a682c49cfa796ca177f7459e1);\n",
              "        \n",
              "    \n",
              "            var marker_5c4eaea99eab4a69f9d43a5db2e5944a = L.marker(\n",
              "                [41.746393038286826, -87.5860053710736],\n",
              "                {}\n",
              "            ).addTo(map_4e7e900a682c49cfa796ca177f7459e1);\n",
              "        \n",
              "    \n",
              "            var marker_4f6b6e2d37f575258de1f2cfdd3bee82 = L.marker(\n",
              "                [41.73244482025524, -87.65772892721816],\n",
              "                {}\n",
              "            ).addTo(map_4e7e900a682c49cfa796ca177f7459e1);\n",
              "        \n",
              "    \n",
              "            var marker_6d9bb8d5c820621e80bada812bda8b2c = L.marker(\n",
              "                [41.978098111742476, -87.81420029973704],\n",
              "                {}\n",
              "            ).addTo(map_4e7e900a682c49cfa796ca177f7459e1);\n",
              "        \n",
              "    \n",
              "            var marker_e7d9609093260dcb95d74fdf490c39f2 = L.marker(\n",
              "                [41.86946341218242, -87.66072612668584],\n",
              "                {}\n",
              "            ).addTo(map_4e7e900a682c49cfa796ca177f7459e1);\n",
              "        \n",
              "    \n",
              "            var marker_14d9eb253d4168fdace972762472608a = L.marker(\n",
              "                [41.997213372156295, -87.76211751799003],\n",
              "                {}\n",
              "            ).addTo(map_4e7e900a682c49cfa796ca177f7459e1);\n",
              "        \n",
              "    \n",
              "            var marker_97ab69eb5d36374ba0647f37bfe6c697 = L.marker(\n",
              "                [41.78202569697298, -87.63738794358196],\n",
              "                {}\n",
              "            ).addTo(map_4e7e900a682c49cfa796ca177f7459e1);\n",
              "        \n",
              "    \n",
              "            var marker_ee1086baf4ed4a3da39fa98af4a60cb9 = L.marker(\n",
              "                [41.99095923823291, -87.660442745415],\n",
              "                {}\n",
              "            ).addTo(map_4e7e900a682c49cfa796ca177f7459e1);\n",
              "        \n",
              "    \n",
              "            var marker_fb6c1b735ad4889ce407b70d1bb2067b = L.marker(\n",
              "                [41.90393142178499, -87.63660775555267],\n",
              "                {}\n",
              "            ).addTo(map_4e7e900a682c49cfa796ca177f7459e1);\n",
              "        \n",
              "    \n",
              "            var marker_9994ea3687fb31b0e24b60b5d152d524 = L.marker(\n",
              "                [41.81634394084193, -87.64256827550598],\n",
              "                {}\n",
              "            ).addTo(map_4e7e900a682c49cfa796ca177f7459e1);\n",
              "        \n",
              "    \n",
              "            var marker_a3414651a96545fd7a83b15983249e97 = L.marker(\n",
              "                [41.8327976771251, -87.64629980794813],\n",
              "                {}\n",
              "            ).addTo(map_4e7e900a682c49cfa796ca177f7459e1);\n",
              "        \n",
              "    \n",
              "            var marker_c55f5a1a9ec5c34eaf2f995bf9c3a673 = L.marker(\n",
              "                [41.88108555559726, -87.67923504553734],\n",
              "                {}\n",
              "            ).addTo(map_4e7e900a682c49cfa796ca177f7459e1);\n",
              "        \n",
              "    \n",
              "            var marker_c6c96745d807a1b36086110356ef049b = L.marker(\n",
              "                [41.93883597361448, -87.75467117455794],\n",
              "                {}\n",
              "            ).addTo(map_4e7e900a682c49cfa796ca177f7459e1);\n",
              "        \n",
              "    \n",
              "            var marker_0a714af56ecffcde9144001158bacd71 = L.marker(\n",
              "                [41.76239541819689, -87.60051216643727],\n",
              "                {}\n",
              "            ).addTo(map_4e7e900a682c49cfa796ca177f7459e1);\n",
              "        \n",
              "    \n",
              "            var marker_5c856b1a52191b64163b78f42ed2d5d5 = L.marker(\n",
              "                [41.65719847558056, -87.59883829075173],\n",
              "                {}\n",
              "            ).addTo(map_4e7e900a682c49cfa796ca177f7459e1);\n",
              "        \n",
              "    \n",
              "            var marker_7a8afb1d0e6cab93d89f447398f642b0 = L.marker(\n",
              "                [41.808384423666354, -87.67756963874196],\n",
              "                {}\n",
              "            ).addTo(map_4e7e900a682c49cfa796ca177f7459e1);\n",
              "        \n",
              "    \n",
              "            var marker_6ec03b99e755afd154420f9994951b46 = L.marker(\n",
              "                [41.792915800399726, -87.78013459023622],\n",
              "                {}\n",
              "            ).addTo(map_4e7e900a682c49cfa796ca177f7459e1);\n",
              "        \n",
              "    \n",
              "            var marker_2294fc7c5fca22338de66615fdc5f919 = L.marker(\n",
              "                [41.83175130060517, -87.61747228078738],\n",
              "                {}\n",
              "            ).addTo(map_4e7e900a682c49cfa796ca177f7459e1);\n",
              "        \n",
              "    \n",
              "            var marker_af62a480f090f197b79fc6eb329e48c5 = L.marker(\n",
              "                [41.894726658545295, -87.7063841773407],\n",
              "                {}\n",
              "            ).addTo(map_4e7e900a682c49cfa796ca177f7459e1);\n",
              "        \n",
              "    \n",
              "            var marker_b2409c4b8f93ff902444f459cb05416a = L.marker(\n",
              "                [41.910332307504966, -87.70551941016132],\n",
              "                {}\n",
              "            ).addTo(map_4e7e900a682c49cfa796ca177f7459e1);\n",
              "        \n",
              "    \n",
              "            var marker_409e719899334aa0b6fb21100516984b = L.marker(\n",
              "                [41.962966859427524, -87.68469465366664],\n",
              "                {}\n",
              "            ).addTo(map_4e7e900a682c49cfa796ca177f7459e1);\n",
              "        \n",
              "    \n",
              "            var marker_f1c068dcc42d76abd70c90e20f256544 = L.marker(\n",
              "                [41.80549277198318, -87.58923748614112],\n",
              "                {}\n",
              "            ).addTo(map_4e7e900a682c49cfa796ca177f7459e1);\n",
              "        \n",
              "    \n",
              "            var marker_a27ae0712be409122c2b69d3a00a37ae = L.marker(\n",
              "                [41.909444834238485, -87.76898326931509],\n",
              "                {}\n",
              "            ).addTo(map_4e7e900a682c49cfa796ca177f7459e1);\n",
              "        \n",
              "    \n",
              "            var marker_8098487c68967327111ef1192eca78b7 = L.marker(\n",
              "                [41.89594730478282, -87.66829305460979],\n",
              "                {}\n",
              "            ).addTo(map_4e7e900a682c49cfa796ca177f7459e1);\n",
              "        \n",
              "    \n",
              "            var marker_602274477d1126af23278d302e02572a = L.marker(\n",
              "                [41.98369797603738, -87.69631576617253],\n",
              "                {}\n",
              "            ).addTo(map_4e7e900a682c49cfa796ca177f7459e1);\n",
              "        \n",
              "    \n",
              "            var marker_7837b3989b89229d53d57eafbd254f7e = L.marker(\n",
              "                [41.92540663614013, -87.65806218385674],\n",
              "                {}\n",
              "            ).addTo(map_4e7e900a682c49cfa796ca177f7459e1);\n",
              "        \n",
              "    \n",
              "            var marker_8e2c64584269634133ac6eef6d5f77f7 = L.marker(\n",
              "                [41.77928203936906, -87.66843344429459],\n",
              "                {}\n",
              "            ).addTo(map_4e7e900a682c49cfa796ca177f7459e1);\n",
              "        \n",
              "    \n",
              "            var marker_de65dd318a747466808389cac5e886f5 = L.marker(\n",
              "                [41.80110836194246, -87.72648385568911],\n",
              "                {}\n",
              "            ).addTo(map_4e7e900a682c49cfa796ca177f7459e1);\n",
              "        \n",
              "    \n",
              "            var marker_389dde970d277a01c8bb70a5db6c32dd = L.marker(\n",
              "                [41.65927659861025, -87.54881978393514],\n",
              "                {}\n",
              "            ).addTo(map_4e7e900a682c49cfa796ca177f7459e1);\n",
              "        \n",
              "    \n",
              "            var marker_ce4bf3977dd5b29fd405c0e0f4955e7f = L.marker(\n",
              "                [41.95413885986087, -87.7200155607629],\n",
              "                {}\n",
              "            ).addTo(map_4e7e900a682c49cfa796ca177f7459e1);\n",
              "        \n",
              "    \n",
              "            var marker_c05fd7a5d754d384f5a7cf281289d8e2 = L.marker(\n",
              "                [41.857601233304614, -87.66116376475367],\n",
              "                {}\n",
              "            ).addTo(map_4e7e900a682c49cfa796ca177f7459e1);\n",
              "        \n",
              "    \n",
              "            var marker_dd708374b756e1e04c3399568c600e59 = L.marker(\n",
              "                [41.76254141905116, -87.56387694448408],\n",
              "                {}\n",
              "            ).addTo(map_4e7e900a682c49cfa796ca177f7459e1);\n",
              "        \n",
              "    \n",
              "            var marker_46c010ba8d2050e8e707a5577705460b = L.marker(\n",
              "                [41.85412074173438, -87.63195792246246],\n",
              "                {}\n",
              "            ).addTo(map_4e7e900a682c49cfa796ca177f7459e1);\n",
              "        \n",
              "    \n",
              "            var marker_4c211c52ea2fbc2ea2f3fc260595bdba = L.marker(\n",
              "                [41.86441239309047, -87.71017465670012],\n",
              "                {}\n",
              "            ).addTo(map_4e7e900a682c49cfa796ca177f7459e1);\n",
              "        \n",
              "    \n",
              "            var marker_5a8f1c60654868571fb575956b7661d3 = L.marker(\n",
              "                [41.924860376546214, -87.7035190503226],\n",
              "                {}\n",
              "            ).addTo(map_4e7e900a682c49cfa796ca177f7459e1);\n",
              "        \n",
              "    \n",
              "            var marker_f07dc84d51e9fd46078c63e06ae0392e = L.marker(\n",
              "                [41.99199760467718, -87.79820642998901],\n",
              "                {}\n",
              "            ).addTo(map_4e7e900a682c49cfa796ca177f7459e1);\n",
              "        \n",
              "    \n",
              "            var marker_0a6a036ec623c3c389cf5ef913cb3c56 = L.marker(\n",
              "                [41.9210332601157, -87.79791005523576],\n",
              "                {}\n",
              "            ).addTo(map_4e7e900a682c49cfa796ca177f7459e1);\n",
              "        \n",
              "    \n",
              "            var marker_af12d7092e176a44913a85721600a7fb = L.marker(\n",
              "                [41.9366521886413, -87.78602401236114],\n",
              "                {}\n",
              "            ).addTo(map_4e7e900a682c49cfa796ca177f7459e1);\n",
              "        \n",
              "    \n",
              "            var marker_c2ddda6012328a54fed602efc72af750 = L.marker(\n",
              "                [41.91235487836141, -87.68029967133904],\n",
              "                {}\n",
              "            ).addTo(map_4e7e900a682c49cfa796ca177f7459e1);\n",
              "        \n",
              "    \n",
              "            var marker_572e95a4daa75484d32eb7feca484c5c = L.marker(\n",
              "                [41.90989766464456, -87.73376822625004],\n",
              "                {}\n",
              "            ).addTo(map_4e7e900a682c49cfa796ca177f7459e1);\n",
              "        \n",
              "    \n",
              "            var marker_346319d949a105561c4018888b3b8df4 = L.marker(\n",
              "                [41.83030074817219, -87.67349098124289],\n",
              "                {}\n",
              "            ).addTo(map_4e7e900a682c49cfa796ca177f7459e1);\n",
              "        \n",
              "    \n",
              "            var marker_b5ddbde84230689f94dc88976c28b1f1 = L.marker(\n",
              "                [41.67790647382097, -87.6431683153105],\n",
              "                {}\n",
              "            ).addTo(map_4e7e900a682c49cfa796ca177f7459e1);\n",
              "        \n",
              "    \n",
              "            var marker_fd5333ed10a3094beeb6282338e6a900 = L.marker(\n",
              "                [41.72118978926962, -87.67214620967468],\n",
              "                {}\n",
              "            ).addTo(map_4e7e900a682c49cfa796ca177f7459e1);\n",
              "        \n",
              "    \n",
              "            var marker_653013428f41961de26507685f81b2eb = L.marker(\n",
              "                [41.87934542742433, -87.72547641315548],\n",
              "                {}\n",
              "            ).addTo(map_4e7e900a682c49cfa796ca177f7459e1);\n",
              "        \n",
              "    \n",
              "            var marker_3e75a2ea171302be385a4aba989152f5 = L.marker(\n",
              "                [41.842086096760674, -87.72463965526215],\n",
              "                {}\n",
              "            ).addTo(map_4e7e900a682c49cfa796ca177f7459e1);\n",
              "        \n",
              "    \n",
              "            var marker_ef98071002808ca6fb3c8b2ce973d15a = L.marker(\n",
              "                [41.88917312206642, -87.7658203582574],\n",
              "                {}\n",
              "            ).addTo(map_4e7e900a682c49cfa796ca177f7459e1);\n",
              "        \n",
              "    \n",
              "            var marker_c23a6b9db9cec9cb0fb11af53180c0be = L.marker(\n",
              "                [41.73795704970435, -87.70221598421591],\n",
              "                {}\n",
              "            ).addTo(map_4e7e900a682c49cfa796ca177f7459e1);\n",
              "        \n",
              "    \n",
              "            var marker_ab6e7f884a56ca3354b4a29c9af71eff = L.marker(\n",
              "                [41.96750826032374, -87.76176748220928],\n",
              "                {}\n",
              "            ).addTo(map_4e7e900a682c49cfa796ca177f7459e1);\n",
              "        \n",
              "    \n",
              "            var marker_b1cca05e662dae89df0c078fec9f127b = L.marker(\n",
              "                [41.968242773953044, -87.737968778247],\n",
              "                {}\n",
              "            ).addTo(map_4e7e900a682c49cfa796ca177f7459e1);\n",
              "        \n",
              "    \n",
              "            var marker_828351ab55aba8159a1be2a6f8d0c855 = L.marker(\n",
              "                [41.73029771500594, -87.54972658730712],\n",
              "                {}\n",
              "            ).addTo(map_4e7e900a682c49cfa796ca177f7459e1);\n",
              "        \n",
              "    \n",
              "            var marker_f219d1fdc2f6f10455342746ae38f53f = L.marker(\n",
              "                [41.776652677565934, -87.78218757614671],\n",
              "                {}\n",
              "            ).addTo(map_4e7e900a682c49cfa796ca177f7459e1);\n",
              "        \n",
              "    \n",
              "            var marker_d709a923dacccb956d6fcbdd1d420f71 = L.marker(\n",
              "                [41.940131637508564, -87.64602857926714],\n",
              "                {}\n",
              "            ).addTo(map_4e7e900a682c49cfa796ca177f7459e1);\n",
              "        \n",
              "    \n",
              "            var marker_c62b221f0534ff08dd360de775ee4edc = L.marker(\n",
              "                [41.95832305807637, -87.65424744448335],\n",
              "                {}\n",
              "            ).addTo(map_4e7e900a682c49cfa796ca177f7459e1);\n",
              "        \n",
              "    \n",
              "            var marker_6e599d883c38b8cee84d352d74eb69ff = L.marker(\n",
              "                [41.7819767986214, -87.7033680880769],\n",
              "                {}\n",
              "            ).addTo(map_4e7e900a682c49cfa796ca177f7459e1);\n",
              "        \n",
              "    \n",
              "            var marker_6d55d5ffa43089be59d56bd4c108d49a = L.marker(\n",
              "                [41.87686252958797, -87.62779697013237],\n",
              "                {}\n",
              "            ).addTo(map_4e7e900a682c49cfa796ca177f7459e1);\n",
              "        \n",
              "    \n",
              "            var marker_4b29a1bb7bbbd2f2940d8f39786d0940 = L.marker(\n",
              "                [41.81516027827089, -87.70273371160454],\n",
              "                {}\n",
              "            ).addTo(map_4e7e900a682c49cfa796ca177f7459e1);\n",
              "        \n",
              "    \n",
              "            var marker_c11d75813f2a8a7489a6c192c13b337e = L.marker(\n",
              "                [41.8950961032908, -87.74806072822989],\n",
              "                {}\n",
              "            ).addTo(map_4e7e900a682c49cfa796ca177f7459e1);\n",
              "        \n",
              "    \n",
              "            var marker_e99f994ed5d52703f349c9410e7d2c6c = L.marker(\n",
              "                [41.84959155873184, -87.70504118331108],\n",
              "                {}\n",
              "            ).addTo(map_4e7e900a682c49cfa796ca177f7459e1);\n",
              "        \n",
              "    \n",
              "            var marker_445453cf5f35ce1fd57de673a871fc55 = L.marker(\n",
              "                [41.94046531149621, -87.67102536129381],\n",
              "                {}\n",
              "            ).addTo(map_4e7e900a682c49cfa796ca177f7459e1);\n",
              "        \n",
              "    \n",
              "            var marker_532f4a5c700c8c9ef8f8f6c5deb97d43 = L.marker(\n",
              "                [41.79357525220078, -87.69413004003073],\n",
              "                {}\n",
              "            ).addTo(map_4e7e900a682c49cfa796ca177f7459e1);\n",
              "        \n",
              "    \n",
              "            var marker_7e7c5a7a79dfdb26de4b4272ce40ca3a = L.marker(\n",
              "                [42.00507612272344, -87.69021903022175],\n",
              "                {}\n",
              "            ).addTo(map_4e7e900a682c49cfa796ca177f7459e1);\n",
              "        \n",
              "    \n",
              "            var marker_ce18391439d53721cdf6d39be8b55227 = L.marker(\n",
              "                [41.94319949471892, -87.81395164414246],\n",
              "                {}\n",
              "            ).addTo(map_4e7e900a682c49cfa796ca177f7459e1);\n",
              "        \n",
              "    \n",
              "            var marker_6ec2e7508bea9d3c44af9bf2372f3b91 = L.marker(\n",
              "                [41.97155143669217, -87.66095347964183],\n",
              "                {}\n",
              "            ).addTo(map_4e7e900a682c49cfa796ca177f7459e1);\n",
              "        \n",
              "    \n",
              "            var marker_32c6bb05baa2629a4f3b9d7c6ac9d764 = L.marker(\n",
              "                [41.8837105009142, -87.6545650515331],\n",
              "                {}\n",
              "            ).addTo(map_4e7e900a682c49cfa796ca177f7459e1);\n",
              "        \n",
              "    \n",
              "            var marker_1ec4fa3f58d7149376443a3940b95188 = L.marker(\n",
              "                [41.69436481773882, -87.6181414059763],\n",
              "                {}\n",
              "            ).addTo(map_4e7e900a682c49cfa796ca177f7459e1);\n",
              "        \n",
              "    \n",
              "            var marker_e009b440bc84489fed70e66aed27b335 = L.marker(\n",
              "                [41.71340053892868, -87.56573413765888],\n",
              "                {}\n",
              "            ).addTo(map_4e7e900a682c49cfa796ca177f7459e1);\n",
              "        \n",
              "    \n",
              "            var marker_313e49b101049d33cda79f0580e5d811 = L.marker(\n",
              "                [41.807377846345496, -87.62263720177272],\n",
              "                {}\n",
              "            ).addTo(map_4e7e900a682c49cfa796ca177f7459e1);\n",
              "        \n",
              "    \n",
              "            var marker_53164ab60b02b7f4019c81358ac23132 = L.marker(\n",
              "                [41.693015814018004, -87.70102477600602],\n",
              "                {}\n",
              "            ).addTo(map_4e7e900a682c49cfa796ca177f7459e1);\n",
              "        \n",
              "    \n",
              "            var marker_c88489c886050e849d75fed03bacd630 = L.marker(\n",
              "                [41.78028267185317, -87.60712228979007],\n",
              "                {}\n",
              "            ).addTo(map_4e7e900a682c49cfa796ca177f7459e1);\n",
              "        \n",
              "    \n",
              "            var marker_1c96e70141c47bfe9406d9e4b9526399 = L.marker(\n",
              "                [41.95312267684315, -87.77928489355646],\n",
              "                {}\n",
              "            ).addTo(map_4e7e900a682c49cfa796ca177f7459e1);\n",
              "        \n",
              "    \n",
              "            var marker_836d8a0b347e8d7e5790d55134e808f5 = L.marker(\n",
              "                [41.720694885749005, -87.64304817213312],\n",
              "                {}\n",
              "            ).addTo(map_4e7e900a682c49cfa796ca177f7459e1);\n",
              "        \n",
              "    \n",
              "            var marker_3040cc8983604a17fd5c3c907b7ae506 = L.marker(\n",
              "                [41.757343880012456, -87.6540643783153],\n",
              "                {}\n",
              "            ).addTo(map_4e7e900a682c49cfa796ca177f7459e1);\n",
              "        \n",
              "    \n",
              "            var marker_0974c987811f0f179e19e455df8e8fab = L.marker(\n",
              "                [41.82824306445502, -87.6263495444489],\n",
              "                {}\n",
              "            ).addTo(map_4e7e900a682c49cfa796ca177f7459e1);\n",
              "        \n",
              "    \n",
              "            var marker_a90f32deabd4b821973485a42edbe879 = L.marker(\n",
              "                [41.70283443594318, -87.61428978448026],\n",
              "                {}\n",
              "            ).addTo(map_4e7e900a682c49cfa796ca177f7459e1);\n",
              "        \n",
              "    \n",
              "            var marker_04b051fdcca513f777c3023bb0f321b0 = L.marker(\n",
              "                [41.79476901885989, -87.65502837616037],\n",
              "                {}\n",
              "            ).addTo(map_4e7e900a682c49cfa796ca177f7459e1);\n",
              "        \n",
              "&lt;/script&gt;\n",
              "&lt;/html&gt;\" style=\"position:absolute;width:100%;height:100%;left:0;top:0;border:none !important;\" allowfullscreen webkitallowfullscreen mozallowfullscreen></iframe></div></div>"
            ]
          },
          "metadata": {},
          "execution_count": 12
        }
      ]
    },
    {
      "cell_type": "markdown",
      "source": [
        "After running the above code, the data is displayed but it is impossible to determine where to ideally open the coffee shops by just looking at the map.\n",
        "\n",
        "\n",
        "Let's set up DOcplex to write and solve an optimization model that will help us determine where to locate the coffee shops in an optimal way."
      ],
      "metadata": {
        "id": "48xz0cu2v08U"
      }
    },
    {
      "cell_type": "markdown",
      "source": [
        "**Step 4: Set up the prescriptive model**"
      ],
      "metadata": {
        "id": "wperfsjkv3E0"
      }
    },
    {
      "cell_type": "code",
      "source": [
        "from docplex.mp.environment import Environment\n",
        "env = Environment()\n",
        "env.print_information()"
      ],
      "metadata": {
        "id": "aJN4jRTgv6uN"
      },
      "execution_count": null,
      "outputs": []
    },
    {
      "cell_type": "markdown",
      "source": [
        "* system is: Linux 64bit\n",
        "* Python version 3.7.9, located at: /opt/conda/envs/Python-3.7-main/bin/python\n",
        "* docplex is present, version is 2.14.186\n",
        "* CPLEX library is present, version is 12.10.0.0, located at: /opt/conda/envs/Python-3.7-main/lib/python3.7/site-packages\n",
        "* pandas is present, version is 1.0.5"
      ],
      "metadata": {
        "id": "M4770gd8v9V0"
      }
    },
    {
      "cell_type": "markdown",
      "source": [
        "**Displaying the solution.**\n",
        "\n",
        "Coffee shops are highlighted in red."
      ],
      "metadata": {
        "id": "cBpCjmWYwBQE"
      }
    },
    {
      "cell_type": "code",
      "source": [
        "import folium\n",
        "map_osm = folium.Map(location=[41.878, -87.629], zoom_start=11)\n",
        "for coffeeshop in open_coffeeshops:\n",
        "    lt = coffeeshop.y\n",
        "    lg = coffeeshop.x\n",
        "    folium.Marker([lt, lg], icon=folium.Icon(color='red',icon='info-sign')).add_to(map_osm)\n",
        "    \n",
        "for b in libraries:\n",
        "    if b not in open_coffeeshops:\n",
        "        lt = b.y\n",
        "        lg = b.x\n",
        "        folium.Marker([lt, lg]).add_to(map_osm)\n",
        "    \n",
        "\n",
        "for (c, b) in edges:\n",
        "    coordinates = [[c.y, c.x], [b.y, b.x]]\n",
        "    map_osm.add_child(folium.PolyLine(coordinates, color='#FF0000', weight=5))\n",
        "\n",
        "map_osm"
      ],
      "metadata": {
        "id": "173J4l9wwHE7"
      },
      "execution_count": null,
      "outputs": []
    },
    {
      "cell_type": "markdown",
      "source": [
        "**Summary**\n",
        "\n",
        "You have learned how to set up, formulate and solve an optimization model using Decision Optimization in Watson Studio.\n"
      ],
      "metadata": {
        "id": "mkHYq-vUwJ9T"
      }
    }
  ]
}