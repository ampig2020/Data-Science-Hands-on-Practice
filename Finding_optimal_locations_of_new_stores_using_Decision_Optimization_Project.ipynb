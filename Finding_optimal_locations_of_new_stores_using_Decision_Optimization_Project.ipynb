{
  "nbformat": 4,
  "nbformat_minor": 0,
  "metadata": {
    "colab": {
      "provenance": [],
      "authorship_tag": "ABX9TyP/WTtpjedGMrsp3jcLtTuR",
      "include_colab_link": true
    },
    "kernelspec": {
      "name": "python3",
      "display_name": "Python 3"
    },
    "language_info": {
      "name": "python"
    }
  },
  "cells": [
    {
      "cell_type": "markdown",
      "metadata": {
        "id": "view-in-github",
        "colab_type": "text"
      },
      "source": [
        "<a href=\"https://colab.research.google.com/github/ampig2020/Data-Science-Hands-on-Practice/blob/main/Finding_optimal_locations_of_new_stores_using_Decision_Optimization_Project.ipynb\" target=\"_parent\"><img src=\"https://colab.research.google.com/assets/colab-badge.svg\" alt=\"Open In Colab\"/></a>"
      ]
    },
    {
      "cell_type": "markdown",
      "source": [
        "This notebook shows you how Decision Optimization can help to prescribe decisions for a complex constrained problem using CPLEX Modeling for Python to help determine the optimal location for a new store. This notebook requires the Commercial Edition of CPLEX engines, which is included in the latest Python XS + DO environment in Watson Studio."
      ],
      "metadata": {
        "id": "5MpREQrRpIPw"
      }
    },
    {
      "cell_type": "markdown",
      "source": [
        "**Finding Optimal Locations for New Stores**\n",
        "\n",
        "This notebook is an example of how Decision Optimization can help to prescribe decisions for a complex constrained problem.\n",
        "\n",
        "When you finish this notebook, you'll have a foundational knowledge of Prescriptive Analytics.\n",
        "\n",
        "This notebook requires the Commercial Edition of CPLEX engines, which is included in the Default Python 3.7 XS + DO in Watson Studio.\n",
        "\n",
        "Table of contents:\n",
        "\n",
        "Describe the business problem\n",
        "\n",
        "\n",
        "How decision optimization (prescriptive analytics) can help\n",
        "\n",
        "Use decision optimization\n",
        "\n",
        "Step 1: Import the docplex package\n",
        "\n",
        "Step 2: Model the data\n",
        "\n",
        "Step 3: Prepare the data\n",
        "\n",
        "Step 4: Set up the prescriptive model\n",
        "\n",
        "Define the decision variables\n",
        "\n",
        "Express the business constraints\n",
        "\n",
        "Express the objective\n",
        "\n",
        "Solve with the Decision Optimization solve service\n",
        "\n",
        "Step 5: Investigate the solution and run an example analysis\n",
        "\n",
        "Summary\n",
        "\n",
        "---\n",
        "\n",
        "\n",
        "\n",
        "**Describe the business problem**\n",
        "\n",
        "A fictional Coffee Company plans to open N shops in the near future and needs to determine where they should be located knowing the following:\n",
        "\n",
        "Most of the customers of this coffee brewer enjoy reading and borrowing books, so the goal is to locate those shops in such a way that all the city public libraries are within minimal walking distance.\n",
        "\n",
        "We use Chicago open data for this example.\n",
        "\n",
        "We implement a K-Median model to get the optimal location of our future shops.\n",
        "\n",
        "**How decision optimization can help**\n",
        "\n",
        "Prescriptive analytics (decision optimization) technology recommends actions that are based on desired outcomes. It takes into account specific scenarios, resources, and knowledge of past and current events. With this insight, your organization can make better decisions and have greater control of business outcomes.\n",
        "\n",
        "Prescriptive analytics is the next step on the path to insight-based actions. It creates value through synergy with predictive analytics, which analyzes data to predict future outcomes.\n",
        "\n",
        "Prescriptive analytics takes that insight to the next level by suggesting the optimal way to handle that future situation. Organizations that can act fast in dynamic conditions and make superior decisions in uncertain environments gain a strong competitive advantage.\n",
        "\n",
        "\n",
        "With prescriptive analytics, you can:\n",
        "\n",
        "Automate the complex decisions and trade-offs to better manage your limited resources.\n",
        "Take advantage of a future opportunity or mitigate a future risk.\n",
        "Proactively update recommendations based on changing events.\n",
        "Meet operational goals, increase customer loyalty, prevent threats and fraud, and optimize business processes."
      ],
      "metadata": {
        "id": "-V9gZDL3pKv3"
      }
    },
    {
      "cell_type": "markdown",
      "source": [
        "***Use decision optimization***"
      ],
      "metadata": {
        "id": "KZKxC4t5q3Xj"
      }
    },
    {
      "cell_type": "markdown",
      "source": [
        "Step 1: Import the docplex package\n"
      ],
      "metadata": {
        "id": "9Yg2P7IqrBsy"
      }
    },
    {
      "cell_type": "markdown",
      "source": [
        "This package is presintalled on Watson Studio."
      ],
      "metadata": {
        "id": "0XUcWo1jrGMi"
      }
    },
    {
      "cell_type": "code",
      "source": [
        "import sys\n",
        "import docplex.mp"
      ],
      "metadata": {
        "id": "Alijd3pirYSa"
      },
      "execution_count": null,
      "outputs": []
    },
    {
      "cell_type": "markdown",
      "source": [
        "*Note that the more global package docplex contains another subpackage docplex.cp that is dedicated to Constraint Programming, another branch of optimization.*"
      ],
      "metadata": {
        "id": "vXPgsBqNuPJS"
      }
    },
    {
      "cell_type": "markdown",
      "source": [
        "**Step 2: Model the data**"
      ],
      "metadata": {
        "id": "zKKKwumpuT5R"
      }
    },
    {
      "cell_type": "markdown",
      "source": [
        "The data for this problem is quite simple: it is composed of the list of public libraries and their geographical locations.\n",
        "\n",
        "The data is acquired from Chicago open data as a JSON file, which is in the following format: \n",
        "data\" : [ [ 1, \"13BFA4C7-78CE-4D83-B53D-B57C60B701CF\", 1, 1441918880, \"885709\", 1441918880, \"885709\", null, \"Albany Park\", \"M, W: 10AM-6PM;  TU, TH: 12PM-8PM; F, SA: 9AM-5PM; SU: Closed\", \"Yes\", \"Yes \", \"3401 W. Foster Avenue\", \"CHICAGO\", \"IL\", \"60625\", \"(773) 539-5450\", [ \"http://www.chipublib.org/locations/1/\", null ], [ null, \"41.975456\", \"-87.71409\", null, false ] ]\n",
        "\n",
        "This code snippet represents library \"3401 W. Foster Avenue\" located at 41.975456, -87.71409"
      ],
      "metadata": {
        "id": "HR4wyZjGuW6C"
      }
    },
    {
      "cell_type": "markdown",
      "source": [
        "**Step 3: Prepare the data**"
      ],
      "metadata": {
        "id": "2AnNbbdTuxWv"
      }
    },
    {
      "cell_type": "markdown",
      "source": [
        "We need to collect the list of public libraries locations and keep their names, latitudes, and longitudes."
      ],
      "metadata": {
        "id": "yb3PySsiu1oH"
      }
    },
    {
      "cell_type": "code",
      "source": [
        "# Store longitude, latitude and street crossing name of each public library location.\n",
        "class XPoint(object):\n",
        "    def __init__(self, x, y):\n",
        "        self.x = x\n",
        "        self.y = y\n",
        "    def __str__(self):\n",
        "        return \"P(%g_%g)\" % (self.x, self.y)\n",
        "\n",
        "class NamedPoint(XPoint):\n",
        "    def __init__(self, name, x, y):\n",
        "        XPoint.__init__(self, x, y)\n",
        "        self.name = name\n",
        "    def __str__(self):\n",
        "        return self.name"
      ],
      "metadata": {
        "id": "a5HdvHnyvGx3"
      },
      "execution_count": null,
      "outputs": []
    },
    {
      "cell_type": "markdown",
      "source": [
        "Define how to compute the earth distance between 2 points:\n",
        "\n",
        "To easily compute distance between 2 points, we use the Python package geopy"
      ],
      "metadata": {
        "id": "RzinWFEOvJnP"
      }
    },
    {
      "cell_type": "code",
      "source": [
        "try:\n",
        "    import geopy.distance\n",
        "except:\n",
        "    if hasattr(sys, 'real_prefix'):\n",
        "        #we are in a virtual env.\n",
        "        !pip install geopy \n",
        "    else:\n",
        "        !pip install --user geopy"
      ],
      "metadata": {
        "id": "RnGCzE0OvRR-"
      },
      "execution_count": null,
      "outputs": []
    },
    {
      "cell_type": "code",
      "source": [
        "# Simple distance computation between 2 locations.\n",
        "from geopy.distance import great_circle\n",
        " \n",
        "def get_distance(p1, p2):\n",
        "    return great_circle((p1.y, p1.x), (p2.y, p2.x)).miles"
      ],
      "metadata": {
        "id": "8pPZM5zRvS4O"
      },
      "execution_count": null,
      "outputs": []
    },
    {
      "cell_type": "markdown",
      "source": [
        "Declare the list of libraries\n",
        "\n",
        "Parse the JSON file to get the list of libraries and store them as Python elements."
      ],
      "metadata": {
        "id": "emn2hBPUvUbG"
      }
    },
    {
      "cell_type": "code",
      "source": [
        "def build_libraries_from_url(url, name_pos, lat_long_pos):\n",
        "    import requests\n",
        "    import json\n",
        "\n",
        "    r = requests.get(url)\n",
        "    myjson = json.loads(r.text, parse_constant='utf-8')\n",
        "    myjson = myjson['data']\n",
        "\n",
        "    libraries = []\n",
        "    k = 1\n",
        "    for location in myjson:\n",
        "        uname = location[name_pos]\n",
        "        try:\n",
        "            latitude = float(location[lat_long_pos][1])\n",
        "            longitude = float(location[lat_long_pos][2])\n",
        "        except TypeError:\n",
        "            latitude = longitude = None\n",
        "        try:\n",
        "            name = str(uname)\n",
        "        except:\n",
        "            name = \"???\"\n",
        "        name = \"P_%s_%d\" % (name, k)\n",
        "        if latitude and longitude:\n",
        "            cp = NamedPoint(name, longitude, latitude)\n",
        "            libraries.append(cp)\n",
        "            k += 1\n",
        "    return libraries"
      ],
      "metadata": {
        "id": "f30ZPBxQvWS2"
      },
      "execution_count": null,
      "outputs": []
    },
    {
      "cell_type": "code",
      "source": [
        "libraries = build_libraries_from_url('https://data.cityofchicago.org/api/views/x8fc-8rcq/rows.json?accessType=DOWNLOAD',\n",
        "                                   name_pos=10,\n",
        "                                   lat_long_pos=16)"
      ],
      "metadata": {
        "id": "egCVMr4ivZlu"
      },
      "execution_count": null,
      "outputs": []
    },
    {
      "cell_type": "code",
      "source": [
        "print(\"There are %d public libraries in Chicago\" % (len(libraries)))"
      ],
      "metadata": {
        "id": "sSIBtc5Mva3m"
      },
      "execution_count": null,
      "outputs": []
    },
    {
      "cell_type": "markdown",
      "source": [
        "There are 81 public libraries in Chicago"
      ],
      "metadata": {
        "id": "KrJiL02LvcM2"
      }
    },
    {
      "cell_type": "markdown",
      "source": [
        "Define number of shops to open\n",
        "\n",
        "Create a constant that indicates how many coffee shops we would like to open."
      ],
      "metadata": {
        "id": "sOyOHC82vfA8"
      }
    },
    {
      "cell_type": "code",
      "source": [
        "nb_shops = 5\n",
        "print(\"We would like to open %d coffee shops\" % nb_shops)"
      ],
      "metadata": {
        "id": "pq7tb5EcvkG0"
      },
      "execution_count": null,
      "outputs": []
    },
    {
      "cell_type": "markdown",
      "source": [
        "We would like to open 5 coffee shops\n"
      ],
      "metadata": {
        "id": "dudrbvXqvpgc"
      }
    },
    {
      "cell_type": "markdown",
      "source": [
        "Validate the data by displaying them\n",
        "\n",
        "We will use the folium library to display a map with markers."
      ],
      "metadata": {
        "id": "AwF4C-5gvqz0"
      }
    },
    {
      "cell_type": "code",
      "source": [
        "try:\n",
        "    import folium\n",
        "except:\n",
        "    if hasattr(sys, 'real_prefix'):\n",
        "        #we are in a virtual env.\n",
        "        !pip install folium \n",
        "    else:\n",
        "        !pip install folium"
      ],
      "metadata": {
        "id": "w_a34wzivu_E"
      },
      "execution_count": null,
      "outputs": []
    },
    {
      "cell_type": "code",
      "source": [
        "import folium\n",
        "map_osm = folium.Map(location=[41.878, -87.629], zoom_start=11)\n",
        "for library in libraries:\n",
        "    lt = library.y\n",
        "    lg = library.x\n",
        "    folium.Marker([lt, lg]).add_to(map_osm)\n",
        "map_osm"
      ],
      "metadata": {
        "id": "0kMpTKsNvyIT"
      },
      "execution_count": null,
      "outputs": []
    },
    {
      "cell_type": "markdown",
      "source": [
        "After running the above code, the data is displayed but it is impossible to determine where to ideally open the coffee shops by just looking at the map.\n",
        "\n",
        "\n",
        "Let's set up DOcplex to write and solve an optimization model that will help us determine where to locate the coffee shops in an optimal way."
      ],
      "metadata": {
        "id": "48xz0cu2v08U"
      }
    },
    {
      "cell_type": "markdown",
      "source": [
        "**Step 4: Set up the prescriptive model**"
      ],
      "metadata": {
        "id": "wperfsjkv3E0"
      }
    },
    {
      "cell_type": "code",
      "source": [
        "from docplex.mp.environment import Environment\n",
        "env = Environment()\n",
        "env.print_information()"
      ],
      "metadata": {
        "id": "aJN4jRTgv6uN"
      },
      "execution_count": null,
      "outputs": []
    },
    {
      "cell_type": "markdown",
      "source": [
        "* system is: Linux 64bit\n",
        "* Python version 3.7.9, located at: /opt/conda/envs/Python-3.7-main/bin/python\n",
        "* docplex is present, version is 2.14.186\n",
        "* CPLEX library is present, version is 12.10.0.0, located at: /opt/conda/envs/Python-3.7-main/lib/python3.7/site-packages\n",
        "* pandas is present, version is 1.0.5"
      ],
      "metadata": {
        "id": "M4770gd8v9V0"
      }
    },
    {
      "cell_type": "markdown",
      "source": [
        "**Displaying the solution.**\n",
        "\n",
        "Coffee shops are highlighted in red."
      ],
      "metadata": {
        "id": "cBpCjmWYwBQE"
      }
    },
    {
      "cell_type": "code",
      "source": [
        "import folium\n",
        "map_osm = folium.Map(location=[41.878, -87.629], zoom_start=11)\n",
        "for coffeeshop in open_coffeeshops:\n",
        "    lt = coffeeshop.y\n",
        "    lg = coffeeshop.x\n",
        "    folium.Marker([lt, lg], icon=folium.Icon(color='red',icon='info-sign')).add_to(map_osm)\n",
        "    \n",
        "for b in libraries:\n",
        "    if b not in open_coffeeshops:\n",
        "        lt = b.y\n",
        "        lg = b.x\n",
        "        folium.Marker([lt, lg]).add_to(map_osm)\n",
        "    \n",
        "\n",
        "for (c, b) in edges:\n",
        "    coordinates = [[c.y, c.x], [b.y, b.x]]\n",
        "    map_osm.add_child(folium.PolyLine(coordinates, color='#FF0000', weight=5))\n",
        "\n",
        "map_osm"
      ],
      "metadata": {
        "id": "173J4l9wwHE7"
      },
      "execution_count": null,
      "outputs": []
    },
    {
      "cell_type": "markdown",
      "source": [
        "**Summary**\n",
        "\n",
        "You have learned how to set up, formulate and solve an optimization model using Decision Optimization in Watson Studio.\n"
      ],
      "metadata": {
        "id": "mkHYq-vUwJ9T"
      }
    }
  ]
}