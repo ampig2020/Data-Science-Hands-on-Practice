{
  "nbformat": 4,
  "nbformat_minor": 0,
  "metadata": {
    "colab": {
      "provenance": [],
      "authorship_tag": "ABX9TyMJW50KsTISRHb9aMwuiF0L",
      "include_colab_link": true
    },
    "kernelspec": {
      "name": "python3",
      "display_name": "Python 3"
    },
    "language_info": {
      "name": "python"
    }
  },
  "cells": [
    {
      "cell_type": "markdown",
      "metadata": {
        "id": "view-in-github",
        "colab_type": "text"
      },
      "source": [
        "<a href=\"https://colab.research.google.com/github/ampig2020/Data-Science-Hands-on-Practice/blob/main/Finding_optimal_locations_of_new_stores_using_Decision_Optimization_Project.ipynb\" target=\"_parent\"><img src=\"https://colab.research.google.com/assets/colab-badge.svg\" alt=\"Open In Colab\"/></a>"
      ]
    },
    {
      "cell_type": "markdown",
      "source": [
        "This notebook shows you how Decision Optimization can help to prescribe decisions for a complex constrained problem using CPLEX Modeling for Python to help determine the optimal location for a new store. This notebook requires the Commercial Edition of CPLEX engines, which is included in the latest Python XS + DO environment in Watson Studio."
      ],
      "metadata": {
        "id": "5MpREQrRpIPw"
      }
    },
    {
      "cell_type": "markdown",
      "source": [
        "**Finding Optimal Locations for New Stores**\n",
        "\n",
        "This notebook is an example of how Decision Optimization can help to prescribe decisions for a complex constrained problem.\n",
        "\n",
        "When you finish this notebook, you'll have a foundational knowledge of Prescriptive Analytics.\n",
        "\n",
        "This notebook requires the Commercial Edition of CPLEX engines, which is included in the Default Python 3.7 XS + DO in Watson Studio.\n",
        "\n",
        "Table of contents:\n",
        "\n",
        "Describe the business problem\n",
        "\n",
        "\n",
        "How decision optimization (prescriptive analytics) can help\n",
        "\n",
        "Use decision optimization\n",
        "\n",
        "Step 1: Import the docplex package\n",
        "\n",
        "Step 2: Model the data\n",
        "\n",
        "Step 3: Prepare the data\n",
        "\n",
        "Step 4: Set up the prescriptive model\n",
        "\n",
        "Define the decision variables\n",
        "\n",
        "Express the business constraints\n",
        "\n",
        "Express the objective\n",
        "\n",
        "Solve with the Decision Optimization solve service\n",
        "\n",
        "Step 5: Investigate the solution and run an example analysis\n",
        "\n",
        "Summary\n",
        "\n",
        "---\n",
        "\n",
        "\n",
        "\n",
        "**Describe the business problem**\n",
        "\n",
        "A fictional Coffee Company plans to open N shops in the near future and needs to determine where they should be located knowing the following:\n",
        "\n",
        "Most of the customers of this coffee brewer enjoy reading and borrowing books, so the goal is to locate those shops in such a way that all the city public libraries are within minimal walking distance.\n",
        "\n",
        "We use Chicago open data for this example.\n",
        "\n",
        "We implement a K-Median model to get the optimal location of our future shops.\n",
        "\n",
        "**How decision optimization can help**\n",
        "\n",
        "Prescriptive analytics (decision optimization) technology recommends actions that are based on desired outcomes. It takes into account specific scenarios, resources, and knowledge of past and current events. With this insight, your organization can make better decisions and have greater control of business outcomes.\n",
        "\n",
        "Prescriptive analytics is the next step on the path to insight-based actions. It creates value through synergy with predictive analytics, which analyzes data to predict future outcomes.\n",
        "\n",
        "Prescriptive analytics takes that insight to the next level by suggesting the optimal way to handle that future situation. Organizations that can act fast in dynamic conditions and make superior decisions in uncertain environments gain a strong competitive advantage.\n",
        "\n",
        "\n",
        "With prescriptive analytics, you can:\n",
        "\n",
        "Automate the complex decisions and trade-offs to better manage your limited resources.\n",
        "Take advantage of a future opportunity or mitigate a future risk.\n",
        "Proactively update recommendations based on changing events.\n",
        "Meet operational goals, increase customer loyalty, prevent threats and fraud, and optimize business processes."
      ],
      "metadata": {
        "id": "-V9gZDL3pKv3"
      }
    },
    {
      "cell_type": "markdown",
      "source": [
        "***Use decision optimization***"
      ],
      "metadata": {
        "id": "KZKxC4t5q3Xj"
      }
    },
    {
      "cell_type": "markdown",
      "source": [
        "Step 1: Import the docplex package\n"
      ],
      "metadata": {
        "id": "9Yg2P7IqrBsy"
      }
    },
    {
      "cell_type": "markdown",
      "source": [],
      "metadata": {
        "id": "0XUcWo1jrGMi"
      }
    },
    {
      "cell_type": "markdown",
      "source": [],
      "metadata": {
        "id": "tN1I7bSpq-_D"
      }
    },
    {
      "cell_type": "markdown",
      "source": [],
      "metadata": {
        "id": "NnjB15KBq5vz"
      }
    }
  ]
}